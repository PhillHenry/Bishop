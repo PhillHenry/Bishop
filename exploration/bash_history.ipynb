{
 "cells": [
  {
   "cell_type": "markdown",
   "metadata": {
    "collapsed": true,
    "pycharm": {
     "name": "#%% md\n"
    }
   },
   "source": [
    "Explore the bash history of this computer\n",
    "========"
   ]
  },
  {
   "cell_type": "markdown",
   "metadata": {},
   "source": [
    "Load the bash history on this computer"
   ]
  },
  {
   "cell_type": "code",
   "execution_count": 1,
   "metadata": {
    "pycharm": {
     "is_executing": false,
     "name": "#%%\n"
    }
   },
   "outputs": [],
   "source": [
    "from os.path import expanduser\n",
    "import matplotlib.pyplot as plt\n",
    "from exploration import words as w\n",
    "\n",
    "home = expanduser(\"~\")\n",
    "with (open(home + \"/.bash_history\")) as f:\n",
    "    history = f.read()\n",
    "    corpus = history.split('\\n')\n",
    "    unigram_count = w.counts_of(corpus, (1,1))\n",
    "    bigram_count = w.counts_of(corpus, (2,2))"
   ]
  },
  {
   "cell_type": "code",
   "execution_count": 2,
   "metadata": {
    "pycharm": {
     "is_executing": false,
     "name": "#%%\n"
    }
   },
   "outputs": [],
   "source": [
    "def plot_histogram_of(words):\n",
    "    sorted_word_count = sorted(words, key = lambda x: -x[1])\n",
    "    top = sorted_word_count[:10]\n",
    "    top_words = list(map(lambda x: x[0], top))\n",
    "    top_counts = list(map(lambda x: x[1], top))\n",
    "    _ = plt.bar(top_words, top_counts) \n",
    "    plt.xticks(rotation='vertical')\n",
    "    plt.title(\"Most popular CLI n-grams\")\n",
    "    plt.show()\n",
    "    "
   ]
  },
  {
   "cell_type": "markdown",
   "metadata": {},
   "source": [
    "The most popular unigrams are:"
   ]
  },
  {
   "cell_type": "code",
   "execution_count": 3,
   "metadata": {
    "pycharm": {
     "is_executing": false,
     "name": "#%%\n"
    }
   },
   "outputs": [
    {
     "data": {
      "text/plain": "<Figure size 432x288 with 1 Axes>",
      "image/png": "[encoded data removed]"
     },
     "metadata": {
      "needs_background": "light"
     },
     "output_type": "display_data"
    }
   ],
   "source": [
    "plot_histogram_of(unigram_count)"
   ]
  },
  {
   "cell_type": "markdown",
   "metadata": {},
   "source": [
    "The most popular bigrams are:"
   ]
  },
  {
   "cell_type": "code",
   "execution_count": 4,
   "metadata": {
    "pycharm": {
     "is_executing": false,
     "name": "#%%\n"
    }
   },
   "outputs": [
    {
     "data": {
      "text/plain": "<Figure size 432x288 with 1 Axes>",
      "image/png": "[encoded data removed]"
     },
     "metadata": {
      "needs_background": "light"
     },
     "output_type": "display_data"
    }
   ],
   "source": [
    "plot_histogram_of(bigram_count)"
   ]
  },
  {
   "cell_type": "markdown",
   "metadata": {},
   "source": [
    "The entropy in the corpus:"
   ]
  },
  {
   "cell_type": "code",
   "execution_count": 5,
   "metadata": {
    "pycharm": {
     "is_executing": false,
     "name": "#%%\n"
    }
   },
   "outputs": [
    {
     "name": "stdout",
     "text": [
      "unigram entropy  5.471363951225183\n",
      "bigram entropy   6.686978137045836\n",
      "mean = 6.234382196240459, std dev = 0.08393033460387236 for n-grams in range (1, 3)\n"
     ],
     "output_type": "stream"
    }
   ],
   "source": [
    "from scipy.stats import entropy\n",
    "\n",
    "def entropy_of(corpus, ngram_range):\n",
    "    entropy_results = []\n",
    "    for chunk in w.randomized_chunks_of(corpus):\n",
    "        h = entropy(w.probabilities_of(w.counts_of(chunk, ngram_range)))\n",
    "        entropy_results.append(h)\n",
    "        \n",
    "    return entropy_results\n",
    "    \n",
    "print('unigram entropy ', entropy(w.probabilities_of(unigram_count)))\n",
    "print('bigram entropy  ', entropy(w.probabilities_of(bigram_count)))\n",
    "\n",
    "ngram_range = (1, 3)\n",
    "hs = entropy_of(corpus, ngram_range)\n",
    "\n",
    "print('mean = {}, std dev = {} for n-grams in range {}'.format(statistics.mean(hs), statistics.stdev(hs), ngram_range))"
   ]
  },
  {
   "cell_type": "markdown",
   "source": [
    "Now, with the history from another box albeit by the same programmer"
   ],
   "metadata": {
    "collapsed": false,
    "pycharm": {
     "name": "#%% md\n"
    }
   }
  },
  {
   "cell_type": "code",
   "execution_count": 6,
   "metadata": {
    "pycharm": {
     "is_executing": false
    }
   },
   "outputs": [
    {
     "name": "stdout",
     "text": [
      "mean = 6.17632301730121, std dev = 0.1330594191127514 for n-grams in range (1, 3)\n"
     ],
     "output_type": "stream"
    }
   ],
   "source": [
    "with (open(home + \"/.bash_history3\")) as f:\n",
    "    history = f.read()\n",
    "    corpus2 = history.split('\\n')\n",
    "    unigram_count2 = w.counts_of(corpus2, (1,1))\n",
    "    bigram_count2 = w.counts_of(corpus2, (2,2))\n",
    "\n",
    "hs = entropy_of(corpus2, ngram_range)\n",
    "\n",
    "print('mean = {}, std dev = {} for n-grams in range {}'.format(statistics.mean(hs), statistics.stdev(hs), ngram_range))"
   ]
  },
  {
   "cell_type": "markdown",
   "source": [
    "Let's compare the two"
   ],
   "metadata": {
    "collapsed": false,
    "pycharm": {
     "name": "#%% md\n"
    }
   }
  },
  {
   "cell_type": "code",
   "execution_count": 7,
   "outputs": [
    {
     "name": "stdout",
     "text": [
      "Comparative entropy of both corpii = 2.2647323772401116\n"
     ],
     "output_type": "stream"
    }
   ],
   "source": [
    "def padding(xs, ys, alpha):\n",
    "    diff = xs - ys\n",
    "    return list(map(lambda x: [x, alpha], diff))\n",
    "\n",
    "def smoothing(word_count1, word_count2, alpha):\n",
    "    words1 = w.words_of(word_count1)\n",
    "    words2 = w.words_of(word_count2)\n",
    "    padding1 = padding(words2, words1, alpha)\n",
    "    padding2 = padding(words1, words2, alpha)\n",
    "    return word_count1 + padding1, word_count2 + padding2\n",
    "\n",
    "ngrams1 = w.counts_of(corpus, ngram_range)\n",
    "ngrams2 = w.counts_of(corpus2, ngram_range)\n",
    "wc1, wc2 = smoothing(ngrams1, ngrams2, 1e-5)\n",
    "\n",
    "comparison = entropy(w.probabilities_of(wc1), w.probabilities_of(wc2))\n",
    "print('Comparative entropy of both corpii = {}'.format(comparison))"
   ],
   "metadata": {
    "collapsed": false,
    "pycharm": {
     "name": "#%%\n",
     "is_executing": false
    }
   }
  }
 ],
 "metadata": {
  "kernelspec": {
   "display_name": "Python 3",
   "language": "python",
   "name": "python3"
  },
  "language_info": {
   "codemirror_mode": {
    "name": "ipython",
    "version": 3
   },
   "file_extension": ".py",
   "mimetype": "text/x-python",
   "name": "python",
   "nbconvert_exporter": "python",
   "pygments_lexer": "ipython3",
   "version": "3.6.9"
  },
  "pycharm": {
   "stem_cell": {
    "cell_type": "raw",
    "source": [],
    "metadata": {
     "collapsed": false
    }
   }
  }
 },
 "nbformat": 4,
 "nbformat_minor": 1
}