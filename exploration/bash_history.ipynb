{
 "cells": [
  {
   "cell_type": "markdown",
   "metadata": {
    "collapsed": true,
    "pycharm": {
     "name": "#%% md\n"
    }
   },
   "source": [
    "Explore the bash history of this computer\n",
    "========"
   ]
  },
  {
   "cell_type": "markdown",
   "source": [
    "Load the bash history on this computer"
   ],
   "metadata": {
    "collapsed": false
   }
  },
  {
   "cell_type": "code",
   "execution_count": 4,
   "metadata": {
    "pycharm": {
     "is_executing": false,
     "name": "#%%\n"
    }
   },
   "outputs": [],
   "source": [
    "from os.path import expanduser\n",
    "from sklearn.feature_extraction.text import CountVectorizer\n",
    "import matplotlib.pyplot as plt\n",
    "import numpy as np\n",
    "\n",
    "def counts_of(corpus, ngram_range):\n",
    "    vectorizer = CountVectorizer(ngram_range=ngram_range)\n",
    "    matrix = vectorizer.fit_transform(corpus)\n",
    "    counts = matrix.toarray().sum(axis=0)\n",
    "    words = vectorizer.get_feature_names()\n",
    "    return zip(words, counts)\n",
    "\n",
    "home = expanduser(\"~\")\n",
    "with (open(home + \"/.bash_history\")) as f:\n",
    "    history = f.read()\n",
    "    corpus = history.split('\\n')\n",
    "    unigram_count = counts_of(corpus, (1,1))\n",
    "    bigram_count = counts_of(corpus, (2,2))"
   ]
  },
  {
   "cell_type": "code",
   "execution_count": 5,
   "outputs": [],
   "source": [
    "def plot_histogram_of(words):\n",
    "    sorted_word_count = sorted(words, key = lambda x: -x[1])\n",
    "    top = sorted_word_count[:10]\n",
    "    top_words = list(map(lambda x: x[0], top))\n",
    "    top_counts = list(map(lambda x: x[1], top))\n",
    "    _ = plt.bar(top_words, top_counts) \n",
    "    plt.xticks(rotation='vertical')\n",
    "    plt.title(\"Most popular CLI n-grams\")\n",
    "    plt.show()\n",
    "    "
   ],
   "metadata": {
    "collapsed": false,
    "pycharm": {
     "name": "#%%\n",
     "is_executing": false
    }
   }
  },
  {
   "cell_type": "markdown",
   "source": [
    "The entropy of the unigrams in the corpus:"
   ],
   "metadata": {
    "collapsed": false
   }
  },
  {
   "cell_type": "code",
   "execution_count": 6,
   "outputs": [
    {
     "name": "stdout",
     "text": [
      "5.4635668853298895\n"
     ],
     "output_type": "stream"
    }
   ],
   "source": [
    "from scipy.stats import entropy\n",
    "\n",
    "words, counts = zip(*unigram_count)\n",
    "total = sum(counts)\n",
    "ps = map(lambda x: x / total, counts)\n",
    "print(entropy(list(ps)))"
   ],
   "metadata": {
    "collapsed": false,
    "pycharm": {
     "name": "#%%\n",
     "is_executing": false
    }
   }
  },
  {
   "cell_type": "markdown",
   "metadata": {
    "pycharm": {
     "name": "#%% md\n"
    }
   },
   "source": [
    "The most popular unigrams are:"
   ]
  },
  {
   "cell_type": "code",
   "execution_count": 7,
   "metadata": {
    "pycharm": {
     "name": "#%%\n",
     "is_executing": false
    }
   },
   "outputs": [
    {
     "data": {
      "text/plain": "<Figure size 432x288 with 1 Axes>",
      "image/png": "[encoded data removed]"
     },
     "metadata": {
      "needs_background": "light"
     },
     "output_type": "display_data"
    }
   ],
   "source": [
    "plot_histogram_of(unigram_count)"
   ]
  },
  {
   "cell_type": "markdown",
   "source": [
    "The most popular bigrams are:"
   ],
   "metadata": {
    "collapsed": false
   }
  },
  {
   "cell_type": "code",
   "execution_count": 8,
   "outputs": [
    {
     "data": {
      "text/plain": "<Figure size 432x288 with 1 Axes>",
      "image/png": "[encoded data removed]"
     },
     "metadata": {
      "needs_background": "light"
     },
     "output_type": "display_data"
    }
   ],
   "source": [
    "plot_histogram_of(bigram_count)"
   ],
   "metadata": {
    "collapsed": false,
    "pycharm": {
     "name": "#%%\n",
     "is_executing": false
    }
   }
  }
 ],
 "metadata": {
  "kernelspec": {
   "display_name": "Python 3",
   "language": "python",
   "name": "python3"
  },
  "language_info": {
   "codemirror_mode": {
    "name": "ipython",
    "version": 3
   },
   "file_extension": ".py",
   "mimetype": "text/x-python",
   "name": "python",
   "nbconvert_exporter": "python",
   "pygments_lexer": "ipython3",
   "version": "3.6.9"
  },
  "pycharm": {
   "stem_cell": {
    "cell_type": "raw",
    "source": [],
    "metadata": {
     "collapsed": false
    }
   }
  }
 },
 "nbformat": 4,
 "nbformat_minor": 1
}