{
 "cells": [
  {
   "cell_type": "markdown",
   "metadata": {
    "collapsed": true,
    "pycharm": {
     "name": "#%% md\n"
    }
   },
   "source": [
    "Explore the bash history of this computer\n",
    "========"
   ]
  },
  {
   "cell_type": "markdown",
   "metadata": {},
   "source": [
    "Load the bash history on this computer"
   ]
  },
  {
   "cell_type": "code",
   "execution_count": 8,
   "metadata": {
    "pycharm": {
     "name": "#%%\n"
    }
   },
   "outputs": [
    {
     "name": "stdout",
     "output_type": "stream",
     "text": [
      "unigram entropy 5.562319905508989 in file /home/henryp/.bash_history\n",
      "bigram entropy  6.7107497273141785 in file /home/henryp/.bash_history\n"
     ]
    }
   ],
   "source": [
    "from os.path import expanduser\n",
    "import matplotlib.pyplot as plt\n",
    "from exploration import words as w\n",
    "from exploration import corpus as c\n",
    "\n",
    "home = expanduser(\"~\")\n",
    "bash_corpus = c.Corpus(home + \"/.bash_history\")"
   ]
  },
  {
   "cell_type": "code",
   "execution_count": 9,
   "metadata": {
    "pycharm": {
     "name": "#%%\n"
    }
   },
   "outputs": [],
   "source": [
    "def plot_histogram_of(words):\n",
    "    sorted_word_count = sorted(words, key = lambda x: -x[1])\n",
    "    top = sorted_word_count[:10]\n",
    "    top_words = list(map(lambda x: x[0], top))\n",
    "    top_counts = list(map(lambda x: x[1], top))\n",
    "    _ = plt.bar(top_words, top_counts) \n",
    "    plt.xticks(rotation='vertical')\n",
    "    plt.title(\"Most popular CLI n-grams\")\n",
    "    plt.show()\n",
    "    "
   ]
  },
  {
   "cell_type": "markdown",
   "metadata": {},
   "source": [
    "The most popular unigrams are:"
   ]
  },
  {
   "cell_type": "code",
   "execution_count": 10,
   "metadata": {
    "pycharm": {
     "name": "#%%\n"
    }
   },
   "outputs": [
    {
     "data": {
      "text/plain": "<Figure size 432x288 with 1 Axes>",
      "image/png": "[encoded data removed]"
     },
     "metadata": {
      "needs_background": "light"
     },
     "output_type": "display_data"
    }
   ],
   "source": [
    "plot_histogram_of(bash_corpus.unigram_count)"
   ]
  },
  {
   "cell_type": "markdown",
   "metadata": {},
   "source": [
    "The most popular bigrams are:"
   ]
  },
  {
   "cell_type": "code",
   "execution_count": 11,
   "metadata": {
    "pycharm": {
     "name": "#%%\n"
    }
   },
   "outputs": [
    {
     "data": {
      "text/plain": "<Figure size 432x288 with 1 Axes>",
      "image/png": "[encoded data removed]"
     },
     "metadata": {
      "needs_background": "light"
     },
     "output_type": "display_data"
    }
   ],
   "source": [
    "plot_histogram_of(bash_corpus.bigram_count)"
   ]
  },
  {
   "cell_type": "markdown",
   "metadata": {},
   "source": [
    "The entropy in the corpus:"
   ]
  },
  {
   "cell_type": "code",
   "execution_count": 12,
   "metadata": {
    "pycharm": {
     "name": "#%%\n"
    }
   },
   "outputs": [
    {
     "name": "stdout",
     "output_type": "stream",
     "text": [
      "mean = 6.199578497313709, std dev = 0.11939234329115361 for n-grams in range (1, 3)\n"
     ]
    }
   ],
   "source": [
    "ngram_range = (1, 3)\n",
    "hs = bash_corpus.entropy_of(ngram_range)"
   ]
  },
  {
   "cell_type": "markdown",
   "source": [
    "Now, with the history from another box albeit by the same programmer"
   ],
   "metadata": {
    "collapsed": false,
    "pycharm": {
     "name": "#%% md\n"
    }
   }
  },
  {
   "cell_type": "code",
   "execution_count": 13,
   "metadata": {},
   "outputs": [
    {
     "name": "stdout",
     "output_type": "stream",
     "text": [
      "unigram entropy 5.529673132053276 in file /home/henryp/.bash_history3\n",
      "bigram entropy  6.635452079555932 in file /home/henryp/.bash_history3\n",
      "mean = 6.192844602554423, std dev = 0.1038740542701775 for n-grams in range (1, 3)\n"
     ]
    }
   ],
   "source": [
    "bash_comparison = c.Corpus(home + \"/.bash_history3\")\n",
    "\n",
    "hs = bash_comparison.entropy_of(ngram_range)"
   ]
  },
  {
   "cell_type": "markdown",
   "source": [
    "Let's compare the two"
   ],
   "metadata": {
    "collapsed": false,
    "pycharm": {
     "name": "#%% md\n"
    }
   }
  },
  {
   "cell_type": "code",
   "execution_count": 14,
   "outputs": [
    {
     "name": "stdout",
     "output_type": "stream",
     "text": [
      "Comparative entropy of both corpii = 2.986538889560459\n"
     ]
    }
   ],
   "source": [
    "def padding(xs, ys, alpha):\n",
    "    in_x_not_y = xs - ys\n",
    "    return list(map(lambda x: [x, alpha], in_x_not_y))\n",
    "\n",
    "def smoothing(word_count1, word_count2, alpha):\n",
    "    words1 = w.words_of(word_count1)\n",
    "    words2 = w.words_of(word_count2)\n",
    "    padding1 = padding(words2, words1, alpha)\n",
    "    padding2 = padding(words1, words2, alpha)\n",
    "    return word_count1 + padding1, word_count2 + padding2\n",
    "\n",
    "ngrams1 = w.counts_of(bash_corpus.corpus, ngram_range)\n",
    "ngrams2 = w.counts_of(bash_comparison.corpus, ngram_range)\n",
    "wc1, wc2 = smoothing(ngrams1, ngrams2, 1e-5)\n",
    "\n",
    "from scipy.stats import entropy\n",
    "comparison = entropy(w.probabilities_of(wc1), w.probabilities_of(wc2))\n",
    "print('Comparative entropy of both corpii = {}'.format(comparison))"
   ],
   "metadata": {
    "collapsed": false,
    "pycharm": {
     "name": "#%%\n"
    }
   }
  }
 ],
 "metadata": {
  "kernelspec": {
   "display_name": "Python 3",
   "language": "python",
   "name": "python3"
  },
  "language_info": {
   "codemirror_mode": {
    "name": "ipython",
    "version": 3
   },
   "file_extension": ".py",
   "mimetype": "text/x-python",
   "name": "python",
   "nbconvert_exporter": "python",
   "pygments_lexer": "ipython3",
   "version": "3.6.9"
  }
 },
 "nbformat": 4,
 "nbformat_minor": 1
}