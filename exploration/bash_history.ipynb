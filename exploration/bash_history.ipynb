{
 "cells": [
  {
   "cell_type": "markdown",
   "metadata": {
    "collapsed": true,
    "pycharm": {
     "name": "#%% md\n"
    }
   },
   "source": [
    "Explore the bash history of this computer\n",
    "========"
   ]
  },
  {
   "cell_type": "code",
   "execution_count": 14,
   "metadata": {
    "pycharm": {
     "is_executing": false,
     "name": "#%%\n"
    }
   },
   "outputs": [
    {
     "data": {
      "text/plain": "<Figure size 432x288 with 1 Axes>",
      "image/png": "[encoded data removed]"
     },
     "metadata": {
      "needs_background": "light"
     },
     "output_type": "display_data"
    }
   ],
   "source": [
    "from os.path import expanduser\n",
    "from sklearn.feature_extraction.text import CountVectorizer\n",
    "import matplotlib.pyplot as plt\n",
    "import numpy as np\n",
    "\n",
    "home = expanduser(\"~\")\n",
    "with (open(home + \"/.bash_history\")) as f:\n",
    "    history = f.read()\n",
    "    corpus = history.split('\\n')\n",
    "    vectorizer = CountVectorizer()\n",
    "    X = vectorizer.fit_transform(corpus)\n",
    "    \n",
    "    counts = X.toarray().sum(axis=0)\n",
    "    words = vectorizer.get_feature_names()\n",
    "    word_count = zip(words, counts)\n",
    "    sorted_word_count = sorted(word_count, key = lambda x: -x[1])\n",
    "    top = sorted_word_count[:10]\n",
    "    top_words = list(map(lambda x: x[0], top))\n",
    "    top_counts = list(map(lambda x: x[1], top))\n",
    "    _ = plt.bar(top_words, top_counts) \n",
    "    plt.title(\"Most popular CLI words\")\n",
    "    plt.show()\n",
    "    \n",
    "    # a = X.toarray()\n",
    "    # plt.imshow(a, cmap='hot')\n",
    "    # plt.show()"
   ]
  },
  {
   "cell_type": "markdown",
   "metadata": {
    "pycharm": {
     "name": "#%% md\n"
    }
   },
   "source": []
  }
 ],
 "metadata": {
  "kernelspec": {
   "display_name": "Python 3",
   "language": "python",
   "name": "python3"
  },
  "language_info": {
   "codemirror_mode": {
    "name": "ipython",
    "version": 3
   },
   "file_extension": ".py",
   "mimetype": "text/x-python",
   "name": "python",
   "nbconvert_exporter": "python",
   "pygments_lexer": "ipython3",
   "version": "3.6.9"
  },
  "pycharm": {
   "stem_cell": {
    "cell_type": "raw",
    "source": [],
    "metadata": {
     "collapsed": false
    }
   }
  }
 },
 "nbformat": 4,
 "nbformat_minor": 1
}